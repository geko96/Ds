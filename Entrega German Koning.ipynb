{
 "cells": [
  {
   "cell_type": "markdown",
   "id": "9fd9684a",
   "metadata": {},
   "source": [
    "# Primera entrega\n"
   ]
  },
  {
   "cell_type": "markdown",
   "id": "ff2703de",
   "metadata": {},
   "source": [
    "## German Koning"
   ]
  },
  {
   "cell_type": "markdown",
   "id": "a34a506b",
   "metadata": {},
   "source": [
    "### Importamos las librerias necesarias"
   ]
  },
  {
   "cell_type": "code",
   "execution_count": 1,
   "id": "3548aa3e",
   "metadata": {},
   "outputs": [],
   "source": [
    "import pandas as pd"
   ]
  },
  {
   "cell_type": "markdown",
   "id": "1b969c8e",
   "metadata": {},
   "source": [
    "### Importamos los datasets a utilizar"
   ]
  },
  {
   "cell_type": "code",
   "execution_count": 18,
   "id": "68da129e",
   "metadata": {},
   "outputs": [],
   "source": [
    "ds1 = pd.read_csv(\"./ds_salaries.csv\")\n",
    "ds2 = pd.read_csv(\"./karachi-pakistan-property-prices-2023.csv\")\n",
    "ds3 = pd.read_csv(\"./Vehicle-Fuel-Economy-Data.csv\", low_memory=False)"
   ]
  },
  {
   "cell_type": "markdown",
   "id": "4aa29caf",
   "metadata": {},
   "source": [
    "## Dataset de Salarios en Data Science"
   ]
  },
  {
   "cell_type": "markdown",
   "id": "14457705",
   "metadata": {},
   "source": [
    "El dataset proporcionado contiene información sobre empleos y salarios en una variedad de empresas. Consta de 3755 entradas y 11 columnas diferentes. Estas columnas incluyen detalles como años de experiencia laboral, nivel de experiencia, tipo de empleo, título del trabajo, salario, moneda del salario, salario en USD, lugar de residencia del empleado, proporción de trabajo remoto, ubicación de la empresa y tamaño de la empresa.\n",
    "\n",
    "El objetivo de este conjunto de datos es proporcionar información útil para comprender las tendencias salariales y las características laborales en diferentes empresas. Ahora, podemos generar algunas preguntas para explorar más a fondo la validez del dataset:\n",
    "\n",
    " - ¿Cuál es la distribución de los años de experiencia laboral en el dataset?\n",
    " - ¿Cuáles son los diferentes niveles de experiencia que se encuentran en el dataset y cuántas entradas hay para cada nivel?\n",
    " - ¿Cuáles son los tipos de empleo más comunes en el dataset y cuántas instancias hay para cada tipo?\n",
    " - ¿Cuáles son los títulos de trabajo más frecuentes en el dataset y cuántas veces aparecen?\n",
    " - ¿Cuál es el rango de salarios en la moneda original y en USD?\n",
    " - ¿En qué países se encuentran la mayoría de los empleados según su lugar de residencia?\n",
    " - ¿Cuál es la proporción promedio de trabajo remoto en los empleos del dataset?\n",
    " - ¿Cuáles son las ubicaciones más comunes de las empresas y cuántas veces aparecen?\n",
    " - ¿Qué tamaños de empresa son más prevalentes en el dataset?\n",
    " - ¿Existe alguna correlación entre el salario y los años de experiencia laboral?"
   ]
  },
  {
   "cell_type": "code",
   "execution_count": 9,
   "id": "42f303ea",
   "metadata": {},
   "outputs": [
    {
     "name": "stdout",
     "output_type": "stream",
     "text": [
      "<class 'pandas.core.frame.DataFrame'>\n",
      "RangeIndex: 3755 entries, 0 to 3754\n",
      "Data columns (total 11 columns):\n",
      " #   Column              Non-Null Count  Dtype \n",
      "---  ------              --------------  ----- \n",
      " 0   work_year           3755 non-null   int64 \n",
      " 1   experience_level    3755 non-null   object\n",
      " 2   employment_type     3755 non-null   object\n",
      " 3   job_title           3755 non-null   object\n",
      " 4   salary              3755 non-null   int64 \n",
      " 5   salary_currency     3755 non-null   object\n",
      " 6   salary_in_usd       3755 non-null   int64 \n",
      " 7   employee_residence  3755 non-null   object\n",
      " 8   remote_ratio        3755 non-null   int64 \n",
      " 9   company_location    3755 non-null   object\n",
      " 10  company_size        3755 non-null   object\n",
      "dtypes: int64(4), object(7)\n",
      "memory usage: 322.8+ KB\n"
     ]
    }
   ],
   "source": [
    "ds1.info()"
   ]
  },
  {
   "cell_type": "markdown",
   "id": "cbb447ef",
   "metadata": {},
   "source": [
    "## Dataset Precios inmoviliarios karachi"
   ]
  },
  {
   "cell_type": "markdown",
   "id": "856fba9f",
   "metadata": {},
   "source": [
    "El dataset proporcionado contiene información relacionada con propiedades en venta. Está compuesto por 8414 registros y consta de 12 columnas que proporcionan detalles sobre cada propiedad, como el título, el precio, la fecha de publicación, el tipo de propiedad, el número de dormitorios y baños, el área, la ubicación, la descripción, las palabras clave y la URL asociada.\n",
    "\n",
    "- ¿Cuál es el rango de fechas de publicación de las propiedades en el dataset?\n",
    "- ¿Cuál es el rango de precios de las propiedades en venta?\n",
    "- ¿Cuántas propiedades tienen un número específico de dormitorios?\n",
    "- ¿Cuáles son las ubicaciones más comunes de las propiedades en venta?\n",
    "- ¿Qué tipos de propiedades se encuentran en el dataset y cuántos registros hay para cada tipo?\n",
    "- ¿Existe alguna correlación entre el número de baños y el precio de las propiedades?\n",
    "- ¿Cuántas propiedades tienen una descripción disponible?\n",
    "- ¿Cuáles son las palabras clave más utilizadas en las descripciones de las propiedades?"
   ]
  },
  {
   "cell_type": "code",
   "execution_count": 15,
   "id": "d6c04085",
   "metadata": {},
   "outputs": [
    {
     "name": "stdout",
     "output_type": "stream",
     "text": [
      "<class 'pandas.core.frame.DataFrame'>\n",
      "RangeIndex: 8414 entries, 0 to 8413\n",
      "Data columns (total 12 columns):\n",
      " #   Column             Non-Null Count  Dtype \n",
      "---  ------             --------------  ----- \n",
      " 0   title              8414 non-null   object\n",
      " 1   price              8413 non-null   object\n",
      " 2   date added         8047 non-null   object\n",
      " 3   type               8413 non-null   object\n",
      " 4   bedrooms           8414 non-null   int64 \n",
      " 5   bathrooms          8414 non-null   int64 \n",
      " 6   area               7322 non-null   object\n",
      " 7   location           8047 non-null   object\n",
      " 8   complete location  8413 non-null   object\n",
      " 9   description        8413 non-null   object\n",
      " 10  keywords           7551 non-null   object\n",
      " 11  url                8414 non-null   object\n",
      "dtypes: int64(2), object(10)\n",
      "memory usage: 788.9+ KB\n"
     ]
    }
   ],
   "source": [
    "ds2.info()"
   ]
  },
  {
   "cell_type": "markdown",
   "id": "3707c096",
   "metadata": {},
   "source": [
    "## Dataset sobre Economia de combustible en veiculos"
   ]
  },
  {
   "cell_type": "markdown",
   "id": "e8c94095",
   "metadata": {},
   "source": [
    "El dataset que has proporcionado contiene información detallada sobre vehículos, incluyendo diferentes atributos relacionados con su rendimiento y características técnicas. El dataset consta de 82 columnas y alrededor de 46,186 filas. Algunas de las columnas importantes incluyen el año de fabricación del vehículo, el fabricante, el modelo, la eficiencia de combustible en ciudad y carretera, la emisión de dióxido de carbono, el tipo de combustible, la clase de vehículo y muchos otros atributos relevantes.\n",
    "\n",
    "Este dataset es una valiosa fuente de información para realizar análisis y extraer conocimientos sobre los vehículos en términos de su rendimiento, emisiones y características técnicas. Ahora, veamos algunas preguntas que podrían ayudarnos a comprender mejor los datos y explorar diferentes aspectos relacionados con los vehículos.\n",
    "\n",
    "Preguntas relacionadas con el dataset:\n",
    "\n",
    "- ¿Cuál es el número total de registros en el dataset?\n",
    "- ¿Cuáles son los fabricantes de vehículos más comunes en el dataset?\n",
    "- ¿Cuál es el rango de años de fabricación de los vehículos incluidos en el dataset?\n",
    "- ¿Cuál es el modelo de vehículo más común en el dataset?\n",
    "- ¿Cuál es el consumo de combustible promedio en ciudad (city08) y en carretera (highway08) de los vehículos en el dataset?\n",
    "- ¿Cuál es la clase de vehículo más común en el dataset?\n",
    "- ¿Cuál es la emisión de dióxido de carbono (CO2) promedio de los vehículos en el dataset?\n",
    "- ¿Cuáles son los tipos de combustible utilizados por los vehículos en el dataset?\n",
    "- ¿Cuántos vehículos en el dataset tienen información registrada sobre el número de cilindros?\n",
    "- ¿Existen vehículos en el dataset que utilicen sistemas de carga o sobrealimentación (turbocompresores o supercargadores)?\n",
    "- ¿Cuál es el costo promedio de combustible por año para los vehículos en el dataset?"
   ]
  },
  {
   "cell_type": "code",
   "execution_count": 20,
   "id": "76415396",
   "metadata": {},
   "outputs": [
    {
     "name": "stdout",
     "output_type": "stream",
     "text": [
      "<class 'pandas.core.frame.DataFrame'>\n",
      "RangeIndex: 46186 entries, 0 to 46185\n",
      "Data columns (total 82 columns):\n",
      " #   Column           Non-Null Count  Dtype  \n",
      "---  ------           --------------  -----  \n",
      " 0   Year             46186 non-null  int64  \n",
      " 1   Manufacturer     46186 non-null  object \n",
      " 2   Model            46176 non-null  object \n",
      " 3   barrels08        46169 non-null  float64\n",
      " 4   barrelsA08       46169 non-null  float64\n",
      " 5   charge240        46169 non-null  float64\n",
      " 6   city08           46169 non-null  float64\n",
      " 7   city08U          46169 non-null  float64\n",
      " 8   cityA08          46169 non-null  float64\n",
      " 9   cityA08U         46169 non-null  float64\n",
      " 10  cityCD           46169 non-null  float64\n",
      " 11  cityE            46169 non-null  float64\n",
      " 12  cityUF           46169 non-null  float64\n",
      " 13  co2              46169 non-null  float64\n",
      " 14  co2A             46169 non-null  float64\n",
      " 15  co2TailpipeAGpm  46169 non-null  float64\n",
      " 16  co2TailpipeGpm   46169 non-null  float64\n",
      " 17  comb08           46169 non-null  float64\n",
      " 18  comb08U          46169 non-null  float64\n",
      " 19  combA08          46169 non-null  float64\n",
      " 20  combA08U         46169 non-null  float64\n",
      " 21  combE            46169 non-null  float64\n",
      " 22  combinedCD       46169 non-null  float64\n",
      " 23  combinedUF       46169 non-null  float64\n",
      " 24  cylinders        45663 non-null  float64\n",
      " 25  displ            45665 non-null  float64\n",
      " 26  drive            44983 non-null  object \n",
      " 27  engId            46169 non-null  float64\n",
      " 28  eng_dscr         29092 non-null  object \n",
      " 29  feScore          44953 non-null  float64\n",
      " 30  fuelCost08       44953 non-null  float64\n",
      " 31  fuelCostA08      44953 non-null  float64\n",
      " 32  fuelType         44953 non-null  object \n",
      " 33  fuelType1        44953 non-null  object \n",
      " 34  ghgScore         44953 non-null  float64\n",
      " 35  ghgScoreA        44953 non-null  float64\n",
      " 36  highway08        44953 non-null  float64\n",
      " 37  highway08U       44953 non-null  float64\n",
      " 38  highwayA08       44953 non-null  float64\n",
      " 39  highwayA08U      44953 non-null  float64\n",
      " 40  VClass           44953 non-null  object \n",
      " 41  highwayCD        44192 non-null  float64\n",
      " 42  highwayE         44192 non-null  float64\n",
      " 43  highwayUF        44192 non-null  float64\n",
      " 44  hlv              44192 non-null  float64\n",
      " 45  hpv              44192 non-null  float64\n",
      " 46  id               44192 non-null  float64\n",
      " 47  lv2              44192 non-null  float64\n",
      " 48  lv4              44192 non-null  float64\n",
      " 49  mpgData          44179 non-null  object \n",
      " 50  phevBlended      44192 non-null  object \n",
      " 51  pv2              44192 non-null  float64\n",
      " 52  pv4              44192 non-null  float64\n",
      " 53  range            44192 non-null  float64\n",
      " 54  rangeCity        44192 non-null  float64\n",
      " 55  rangeCityA       44192 non-null  float64\n",
      " 56  rangeHwy         44192 non-null  float64\n",
      " 57  rangeHwyA        44192 non-null  float64\n",
      " 58  trany            44181 non-null  object \n",
      " 59  UCity            44192 non-null  float64\n",
      " 60  UCityA           44192 non-null  float64\n",
      " 61  UHighway         44192 non-null  float64\n",
      " 62  UHighwayA        44192 non-null  float64\n",
      " 63  youSaveSpend     44192 non-null  float64\n",
      " 64  guzzler          2635 non-null   object \n",
      " 65  trans_dscr       14391 non-null  object \n",
      " 66  tCharger         8531 non-null   object \n",
      " 67  sCharger         987 non-null    object \n",
      " 68  atvType          4386 non-null   object \n",
      " 69  fuelType2        1647 non-null   object \n",
      " 70  rangeA           1642 non-null   object \n",
      " 71  evMotor          1874 non-null   object \n",
      " 72  mfrCode          15200 non-null  object \n",
      " 73  c240Dscr         133 non-null    object \n",
      " 74  charge240b       44170 non-null  float64\n",
      " 75  c240bDscr        127 non-null    object \n",
      " 76  createdOn        44170 non-null  object \n",
      " 77  modifiedOn       44170 non-null  object \n",
      " 78  startStop        14357 non-null  object \n",
      " 79  phevCity         44170 non-null  float64\n",
      " 80  phevHwy          44170 non-null  float64\n",
      " 81  phevComb         44170 non-null  float64\n",
      "dtypes: float64(57), int64(1), object(24)\n",
      "memory usage: 28.9+ MB\n"
     ]
    }
   ],
   "source": [
    "ds3.info()"
   ]
  }
 ],
 "metadata": {
  "kernelspec": {
   "display_name": "Python 3 (ipykernel)",
   "language": "python",
   "name": "python3"
  },
  "language_info": {
   "codemirror_mode": {
    "name": "ipython",
    "version": 3
   },
   "file_extension": ".py",
   "mimetype": "text/x-python",
   "name": "python",
   "nbconvert_exporter": "python",
   "pygments_lexer": "ipython3",
   "version": "3.10.9"
  }
 },
 "nbformat": 4,
 "nbformat_minor": 5
}
