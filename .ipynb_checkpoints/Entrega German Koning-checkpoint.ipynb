{
 "cells": [
  {
   "cell_type": "markdown",
   "id": "def8a70a",
   "metadata": {},
   "source": [
    "# Primera entrega\n"
   ]
  },
  {
   "cell_type": "markdown",
   "id": "7a34b94d",
   "metadata": {},
   "source": [
    "## German Koning"
   ]
  },
  {
   "cell_type": "markdown",
   "id": "7dc9826e",
   "metadata": {},
   "source": [
    "### Importamos las librerias necesarias"
   ]
  },
  {
   "cell_type": "code",
   "execution_count": 1,
   "id": "3102eb7d",
   "metadata": {},
   "outputs": [],
   "source": [
    "import pandas as pd"
   ]
  },
  {
   "cell_type": "markdown",
   "id": "b033b7d4",
   "metadata": {},
   "source": [
    "### Importamos los datasets a utilizar"
   ]
  },
  {
   "cell_type": "code",
   "execution_count": 17,
   "id": "e9f31fbb",
   "metadata": {},
   "outputs": [
    {
     "name": "stderr",
     "output_type": "stream",
     "text": [
      "C:\\Users\\German\\AppData\\Local\\Temp\\ipykernel_10776\\1592124847.py:3: DtypeWarning: Columns (73,75) have mixed types. Specify dtype option on import or set low_memory=False.\n",
      "  ds3 = pd.read_csv(\"./Vehicle-Fuel-Economy-Data.csv\")\n"
     ]
    }
   ],
   "source": [
    "ds1 = pd.read_csv(\"./ds_salaries.csv\")\n",
    "ds2 = pd.read_csv(\"./karachi-pakistan-property-prices-2023.csv\")\n",
    "ds3 = pd.read_csv(\"./Vehicle-Fuel-Economy-Data.csv\", low_memory=False)"
   ]
  },
  {
   "cell_type": "markdown",
   "id": "be1af75e",
   "metadata": {},
   "source": [
    "## Dataset de Salarios en Data Science"
   ]
  },
  {
   "cell_type": "markdown",
   "id": "6f85df6c",
   "metadata": {},
   "source": [
    "El dataset proporcionado contiene información sobre empleos y salarios en una variedad de empresas. Consta de 3755 entradas y 11 columnas diferentes. Estas columnas incluyen detalles como años de experiencia laboral, nivel de experiencia, tipo de empleo, título del trabajo, salario, moneda del salario, salario en USD, lugar de residencia del empleado, proporción de trabajo remoto, ubicación de la empresa y tamaño de la empresa.\n",
    "\n",
    "El objetivo de este conjunto de datos es proporcionar información útil para comprender las tendencias salariales y las características laborales en diferentes empresas. Ahora, podemos generar algunas preguntas para explorar más a fondo la validez del dataset:\n",
    "\n",
    " - ¿Cuál es la distribución de los años de experiencia laboral en el dataset?\n",
    " - ¿Cuáles son los diferentes niveles de experiencia que se encuentran en el dataset y cuántas entradas hay para cada nivel?\n",
    " - ¿Cuáles son los tipos de empleo más comunes en el dataset y cuántas instancias hay para cada tipo?\n",
    " - ¿Cuáles son los títulos de trabajo más frecuentes en el dataset y cuántas veces aparecen?\n",
    " - ¿Cuál es el rango de salarios en la moneda original y en USD?\n",
    " - ¿En qué países se encuentran la mayoría de los empleados según su lugar de residencia?\n",
    " - ¿Cuál es la proporción promedio de trabajo remoto en los empleos del dataset?\n",
    " - ¿Cuáles son las ubicaciones más comunes de las empresas y cuántas veces aparecen?\n",
    " - ¿Qué tamaños de empresa son más prevalentes en el dataset?\n",
    " - ¿Existe alguna correlación entre el salario y los años de experiencia laboral?"
   ]
  },
  {
   "cell_type": "code",
   "execution_count": 9,
   "id": "bd5bd488",
   "metadata": {},
   "outputs": [
    {
     "name": "stdout",
     "output_type": "stream",
     "text": [
      "<class 'pandas.core.frame.DataFrame'>\n",
      "RangeIndex: 3755 entries, 0 to 3754\n",
      "Data columns (total 11 columns):\n",
      " #   Column              Non-Null Count  Dtype \n",
      "---  ------              --------------  ----- \n",
      " 0   work_year           3755 non-null   int64 \n",
      " 1   experience_level    3755 non-null   object\n",
      " 2   employment_type     3755 non-null   object\n",
      " 3   job_title           3755 non-null   object\n",
      " 4   salary              3755 non-null   int64 \n",
      " 5   salary_currency     3755 non-null   object\n",
      " 6   salary_in_usd       3755 non-null   int64 \n",
      " 7   employee_residence  3755 non-null   object\n",
      " 8   remote_ratio        3755 non-null   int64 \n",
      " 9   company_location    3755 non-null   object\n",
      " 10  company_size        3755 non-null   object\n",
      "dtypes: int64(4), object(7)\n",
      "memory usage: 322.8+ KB\n"
     ]
    }
   ],
   "source": [
    "ds1.info()"
   ]
  },
  {
   "cell_type": "markdown",
   "id": "119f83e2",
   "metadata": {},
   "source": [
    "## Dataset Precios inmoviliarios karachi"
   ]
  },
  {
   "cell_type": "markdown",
   "id": "dfe7e63d",
   "metadata": {},
   "source": [
    "El dataset proporcionado contiene información relacionada con propiedades en venta. Está compuesto por 8414 registros y consta de 12 columnas que proporcionan detalles sobre cada propiedad, como el título, el precio, la fecha de publicación, el tipo de propiedad, el número de dormitorios y baños, el área, la ubicación, la descripción, las palabras clave y la URL asociada.\n",
    "\n",
    "- ¿Cuál es el rango de fechas de publicación de las propiedades en el dataset?\n",
    "- ¿Cuál es el rango de precios de las propiedades en venta?\n",
    "- ¿Cuántas propiedades tienen un número específico de dormitorios?\n",
    "- ¿Cuáles son las ubicaciones más comunes de las propiedades en venta?\n",
    "- ¿Qué tipos de propiedades se encuentran en el dataset y cuántos registros hay para cada tipo?\n",
    "- ¿Existe alguna correlación entre el número de baños y el precio de las propiedades?\n",
    "- ¿Cuántas propiedades tienen una descripción disponible?\n",
    "- ¿Cuáles son las palabras clave más utilizadas en las descripciones de las propiedades?"
   ]
  },
  {
   "cell_type": "code",
   "execution_count": 15,
   "id": "6e1c5385",
   "metadata": {},
   "outputs": [
    {
     "name": "stdout",
     "output_type": "stream",
     "text": [
      "<class 'pandas.core.frame.DataFrame'>\n",
      "RangeIndex: 8414 entries, 0 to 8413\n",
      "Data columns (total 12 columns):\n",
      " #   Column             Non-Null Count  Dtype \n",
      "---  ------             --------------  ----- \n",
      " 0   title              8414 non-null   object\n",
      " 1   price              8413 non-null   object\n",
      " 2   date added         8047 non-null   object\n",
      " 3   type               8413 non-null   object\n",
      " 4   bedrooms           8414 non-null   int64 \n",
      " 5   bathrooms          8414 non-null   int64 \n",
      " 6   area               7322 non-null   object\n",
      " 7   location           8047 non-null   object\n",
      " 8   complete location  8413 non-null   object\n",
      " 9   description        8413 non-null   object\n",
      " 10  keywords           7551 non-null   object\n",
      " 11  url                8414 non-null   object\n",
      "dtypes: int64(2), object(10)\n",
      "memory usage: 788.9+ KB\n"
     ]
    }
   ],
   "source": [
    "ds2.info()"
   ]
  }
 ],
 "metadata": {
  "kernelspec": {
   "display_name": "Python 3 (ipykernel)",
   "language": "python",
   "name": "python3"
  },
  "language_info": {
   "codemirror_mode": {
    "name": "ipython",
    "version": 3
   },
   "file_extension": ".py",
   "mimetype": "text/x-python",
   "name": "python",
   "nbconvert_exporter": "python",
   "pygments_lexer": "ipython3",
   "version": "3.10.9"
  }
 },
 "nbformat": 4,
 "nbformat_minor": 5
}
